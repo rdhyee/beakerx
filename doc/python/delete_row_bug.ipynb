{
 "cells": [
  {
   "cell_type": "code",
   "execution_count": 2,
   "metadata": {
    "collapsed": true
   },
   "outputs": [],
   "source": [
    "import pandas as pd\n",
    "from pandas import DataFrame, Series\n",
    "\n",
    "#import beakerx\n",
    "from beakerx import *"
   ]
  },
  {
   "cell_type": "code",
   "execution_count": 3,
   "metadata": {
    "collapsed": true
   },
   "outputs": [],
   "source": [
    "rows = [{'created': 1535710890000,\n",
    "  'is_project_note': True,\n",
    "  'modified': 1538640558000,\n",
    "  'note_link': 'evernote:///view/59356/s1/62788668-5ff0-4946-b75b-6b1b72e95552/62788668-5ff0-4946-b75b-6b1b72e95552/',\n",
    "  'notebook_name': ':PROJECTS',\n",
    "  'plus_tags': ['+WikiCite 2018'],\n",
    "  'title': 'WikiCite 2018'},\n",
    " {'created': 1476018688000,\n",
    "  'is_project_note': True,\n",
    "  'modified': 1538466851000,\n",
    "  'note_link': 'evernote:///view/59356/s1/c85b649b-5e45-4d9f-9063-33be4884e5a5/c85b649b-5e45-4d9f-9063-33be4884e5a5/',\n",
    "  'notebook_name': ':PROJECTS',\n",
    "  'plus_tags': ['+Daily Programming Practice 2016'],\n",
    "  'title': 'Daily Programming Practice 2016'},\n",
    " {'created': 1537956489000,\n",
    "  'is_project_note': True,\n",
    "  'modified': 1538066710000,\n",
    "  'note_link': 'evernote:///view/59356/s1/b3b84533-8e40-489f-844d-90a5d106fee5/b3b84533-8e40-489f-844d-90a5d106fee5/',\n",
    "  'notebook_name': ':PROJECTS',\n",
    "  'plus_tags': ['+Ballot Study Night 2018'],\n",
    "  'title': 'Fall 2018 Ballot Study Night (2018.10)'},\n",
    " {'created': 1537955279000,\n",
    "  'is_project_note': True,\n",
    "  'modified': 1537955286000,\n",
    "  'note_link': 'evernote:///view/59356/s1/9d90ef12-2c86-444b-81d7-769f3baf87d0/9d90ef12-2c86-444b-81d7-769f3baf87d0/',\n",
    "  'notebook_name': ':PROJECTS',\n",
    "  'plus_tags': ['+Cooking 2018'],\n",
    "  'title': 'Improve my cooking'}]"
   ]
  },
  {
   "cell_type": "code",
   "execution_count": 4,
   "metadata": {},
   "outputs": [
    {
     "data": {
      "application/vnd.jupyter.widget-view+json": {
       "model_id": "812397e0e8054d36a60a4feeb2cbb84a",
       "version_major": 2,
       "version_minor": 0
      }
     },
     "metadata": {},
     "output_type": "display_data"
    }
   ],
   "source": [
    "def delete_row(row, column, tabledisplay):\n",
    "    tabledisplay.values[row:row+1] = []\n",
    "\n",
    "df = DataFrame(rows)\n",
    "\n",
    "table = TableDisplay(df)\n",
    "\n",
    "table.setColumnOrder(['title', 'modified', 'created', \n",
    "       'plus_tags', 'note_link', 'is_project_note', 'notebook_name'])\n",
    "table.setColumnVisible(\"is_project_note\", False)\n",
    "table.setColumnVisible(\"notebook_name\", False)\n",
    "\n",
    "table.addContextMenuItem(\"delete row\", delete_row)\n",
    "\n",
    "table"
   ]
  },
  {
   "cell_type": "code",
   "execution_count": null,
   "metadata": {
    "collapsed": true
   },
   "outputs": [],
   "source": []
  }
 ],
 "metadata": {
  "kernelspec": {
   "display_name": "Python 3",
   "language": "python",
   "name": "python3"
  },
  "language_info": {
   "codemirror_mode": {
    "name": "ipython",
    "version": 3
   },
   "file_extension": ".py",
   "mimetype": "text/x-python",
   "name": "python",
   "nbconvert_exporter": "python",
   "pygments_lexer": "ipython3",
   "version": "3.6.6"
  },
  "toc": {
   "base_numbering": 1,
   "nav_menu": {},
   "number_sections": false,
   "sideBar": false,
   "skip_h1_title": false,
   "title_cell": "Table of Contents",
   "title_sidebar": "Contents",
   "toc_cell": false,
   "toc_position": {},
   "toc_section_display": false,
   "toc_window_display": false
  }
 },
 "nbformat": 4,
 "nbformat_minor": 2
}
